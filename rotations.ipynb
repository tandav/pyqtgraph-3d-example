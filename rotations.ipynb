{
 "cells": [
  {
   "cell_type": "code",
   "execution_count": 13,
   "id": "ab212000",
   "metadata": {},
   "outputs": [],
   "source": [
    "import matplotlib.pyplot as plt\n",
    "import numpy as np\n",
    "import json\n",
    "import itertools"
   ]
  },
  {
   "cell_type": "code",
   "execution_count": 12,
   "id": "dbeee50a",
   "metadata": {},
   "outputs": [
    {
     "data": {
      "text/plain": [
       "2.718281828459045"
      ]
     },
     "execution_count": 12,
     "metadata": {},
     "output_type": "execute_result"
    }
   ],
   "source": [
    "np.e"
   ]
  },
  {
   "cell_type": "code",
   "execution_count": 3,
   "id": "1b0e9030",
   "metadata": {},
   "outputs": [],
   "source": [
    "with open('tiers.json') as f: tiers = json.load(f)"
   ]
  },
  {
   "cell_type": "code",
   "execution_count": 4,
   "id": "b53460d9",
   "metadata": {
    "scrolled": true
   },
   "outputs": [
    {
     "data": {
      "text/plain": [
       "[{'points': ['C', 'D', 'E', 'F', 'G', 'A', 'B'],\n",
       "  'radius': 1,\n",
       "  'rotation': 0,\n",
       "  'z': 0},\n",
       " {'points': ['CE', 'CA', 'DF', 'DB', 'EG', 'FA', 'GB'],\n",
       "  'radius': 1,\n",
       "  'rotation': 0,\n",
       "  'z': 0},\n",
       " {'points': ['CD', 'CB', 'DE', 'EF', 'FG', 'GA', 'AB'],\n",
       "  'radius': 1,\n",
       "  'rotation': 0,\n",
       "  'z': 0},\n",
       " {'points': ['CF', 'CG', 'DG', 'DA', 'EA', 'EB', 'FB'],\n",
       "  'radius': 1,\n",
       "  'rotation': 0,\n",
       "  'z': 0}]"
      ]
     },
     "execution_count": 4,
     "metadata": {},
     "output_type": "execute_result"
    }
   ],
   "source": [
    "tiers"
   ]
  },
  {
   "cell_type": "code",
   "execution_count": null,
   "id": "e1542ef6",
   "metadata": {},
   "outputs": [],
   "source": []
  },
  {
   "cell_type": "code",
   "execution_count": 10,
   "id": "981b30e6",
   "metadata": {},
   "outputs": [],
   "source": [
    "c = 1 + 0j"
   ]
  },
  {
   "cell_type": "code",
   "execution_count": 36,
   "id": "c8161ced",
   "metadata": {},
   "outputs": [
    {
     "data": {
      "text/plain": [
       "array([ 2.71828183-6.65787028e-15j,  1.694821  +2.12523831e+00j,\n",
       "       -0.60487461+2.65012883e+00j, -2.4490873 +1.17941828e+00j,\n",
       "       -2.4490873 -1.17941828e+00j, -0.60487461-2.65012883e+00j,\n",
       "        1.694821  -2.12523831e+00j])"
      ]
     },
     "execution_count": 36,
     "metadata": {},
     "output_type": "execute_result"
    }
   ],
   "source": [
    "points2"
   ]
  },
  {
   "cell_type": "code",
   "execution_count": 70,
   "id": "bb3d0cbc",
   "metadata": {},
   "outputs": [
    {
     "data": {
      "text/plain": [
       "(-1.0456567368515877,\n",
       " 1.0974122255643612,\n",
       " -1.0941276075943263,\n",
       " 1.083828942590804)"
      ]
     },
     "execution_count": 70,
     "metadata": {},
     "output_type": "execute_result"
    },
    {
     "data": {
      "image/png": "[encoded data removed]",
      "text/plain": [
       "<Figure size 432x288 with 1 Axes>"
      ]
     },
     "metadata": {
      "needs_background": "light"
     },
     "output_type": "display_data"
    }
   ],
   "source": [
    "points = []\n",
    "\n",
    "r = 1\n",
    "for i in range(7):\n",
    "    points.append(r * np.exp(2j * np.pi * i / 7))\n",
    "points = np.array(points)\n",
    "\n",
    "points2 = points * np.exp(2j * np.pi / 50)\n",
    "\n",
    "# convert to polar\n",
    "radius = np.absolute(points) \n",
    "angle = np.angle(points)\n",
    "angle -= 0.05 # change angle a bit\n",
    "# convert polar back to rectangular\n",
    "points3 = radius * (np.cos(angle) + 1j * np.sin(angle))\n",
    "\n",
    "\n",
    "plt.scatter(points.real, points.imag, label='original')\n",
    "plt.scatter(points2.real, points2.imag, label='rotated')\n",
    "plt.scatter(points3.real, points3.imag, label='polar rotated')\n",
    "\n",
    "plt.legend()\n",
    "plt.grid(lw=0.3)\n",
    "plt.axis('equal')"
   ]
  },
  {
   "cell_type": "code",
   "execution_count": 52,
   "id": "3b4d3e3f",
   "metadata": {},
   "outputs": [
    {
     "data": {
      "text/plain": [
       "array([ 1.        +0.j        ,  0.6234898 +0.78183148j,\n",
       "       -0.22252093+0.97492791j, -0.90096887+0.43388374j,\n",
       "       -0.90096887-0.43388374j, -0.22252093-0.97492791j,\n",
       "        0.6234898 -0.78183148j])"
      ]
     },
     "execution_count": 52,
     "metadata": {},
     "output_type": "execute_result"
    }
   ],
   "source": [
    "points"
   ]
  },
  {
   "cell_type": "code",
   "execution_count": 51,
   "id": "d78ab970",
   "metadata": {},
   "outputs": [
    {
     "data": {
      "text/plain": [
       "array([ 1.        ,  0.6234898 , -0.22252093, -0.90096887, -0.90096887,\n",
       "       -0.22252093,  0.6234898 ])"
      ]
     },
     "execution_count": 51,
     "metadata": {},
     "output_type": "execute_result"
    }
   ],
   "source": [
    "points.real"
   ]
  },
  {
   "cell_type": "code",
   "execution_count": 53,
   "id": "2ad45278",
   "metadata": {},
   "outputs": [
    {
     "data": {
      "text/plain": [
       "array([ 0.        ,  0.78183148,  0.97492791,  0.43388374, -0.43388374,\n",
       "       -0.97492791, -0.78183148])"
      ]
     },
     "execution_count": 53,
     "metadata": {},
     "output_type": "execute_result"
    }
   ],
   "source": [
    "points.imag"
   ]
  },
  {
   "cell_type": "code",
   "execution_count": 60,
   "id": "4c35a814",
   "metadata": {},
   "outputs": [
    {
     "data": {
      "text/plain": [
       "0.8975979010256552"
      ]
     },
     "execution_count": 60,
     "metadata": {},
     "output_type": "execute_result"
    }
   ],
   "source": [
    "2*np.pi/7"
   ]
  },
  {
   "cell_type": "code",
   "execution_count": 56,
   "id": "36476401",
   "metadata": {},
   "outputs": [],
   "source": [
    "data = []"
   ]
  },
  {
   "cell_type": "code",
   "execution_count": 57,
   "id": "7fb0b655",
   "metadata": {},
   "outputs": [],
   "source": [
    "data += zip(points.real, points.imag, itertools.repeat(0))"
   ]
  },
  {
   "cell_type": "code",
   "execution_count": 58,
   "id": "56efa42b",
   "metadata": {},
   "outputs": [
    {
     "data": {
      "text/plain": [
       "[(1.0, 0.0, 0),\n",
       " (0.6234898018587336, 0.7818314824680297, 0),\n",
       " (-0.22252093395631434, 0.9749279121818236, 0),\n",
       " (-0.900968867902419, 0.43388373911755823, 0),\n",
       " (-0.9009688679024191, -0.433883739117558, 0),\n",
       " (-0.2225209339563146, -0.9749279121818235, 0),\n",
       " (0.6234898018587334, -0.7818314824680299, 0)]"
      ]
     },
     "execution_count": 58,
     "metadata": {},
     "output_type": "execute_result"
    }
   ],
   "source": [
    "data"
   ]
  },
  {
   "cell_type": "code",
   "execution_count": 55,
   "id": "716a07e7",
   "metadata": {},
   "outputs": [
    {
     "data": {
      "text/plain": [
       "[(1.0, 0.0, 0),\n",
       " (0.6234898018587336, 0.7818314824680297, 0),\n",
       " (-0.22252093395631434, 0.9749279121818236, 0),\n",
       " (-0.900968867902419, 0.43388373911755823, 0),\n",
       " (-0.9009688679024191, -0.433883739117558, 0),\n",
       " (-0.2225209339563146, -0.9749279121818235, 0),\n",
       " (0.6234898018587334, -0.7818314824680299, 0)]"
      ]
     },
     "execution_count": 55,
     "metadata": {},
     "output_type": "execute_result"
    }
   ],
   "source": [
    "list(zip(points.real, points.imag, itertools.repeat(0)))"
   ]
  },
  {
   "cell_type": "code",
   "execution_count": null,
   "id": "ae643379",
   "metadata": {},
   "outputs": [],
   "source": []
  },
  {
   "cell_type": "code",
   "execution_count": 17,
   "id": "98c1ca9b",
   "metadata": {},
   "outputs": [
    {
     "name": "stderr",
     "output_type": "stream",
     "text": [
      "/usr/local/lib/python3.10/site-packages/matplotlib/cbook/__init__.py:1298: ComplexWarning: Casting complex values to real discards the imaginary part\n",
      "  return np.asarray(x, float)\n"
     ]
    },
    {
     "data": {
      "text/plain": [
       "[<matplotlib.lines.Line2D at 0x1141eb9d0>]"
      ]
     },
     "execution_count": 17,
     "metadata": {},
     "output_type": "execute_result"
    },
    {
     "data": {
      "image/png": "[encoded data removed]",
      "text/plain": [
       "<Figure size 432x288 with 1 Axes>"
      ]
     },
     "metadata": {
      "needs_background": "light"
     },
     "output_type": "display_data"
    }
   ],
   "source": [
    "r = 2\n",
    "circle = 2*np.pi\n",
    "plt.plot([r*np.e**(t*circle/20*1j) for t in range(20)])"
   ]
  },
  {
   "cell_type": "code",
   "execution_count": null,
   "id": "0294b635",
   "metadata": {},
   "outputs": [],
   "source": []
  },
  {
   "cell_type": "code",
   "execution_count": 7,
   "id": "2171c449",
   "metadata": {},
   "outputs": [],
   "source": [
    "p = np.array([1 + 0j, 2 + 1j])"
   ]
  },
  {
   "cell_type": "code",
   "execution_count": 9,
   "id": "163d64a8",
   "metadata": {},
   "outputs": [
    {
     "data": {
      "text/plain": [
       "<matplotlib.collections.PathCollection at 0x1289238b0>"
      ]
     },
     "execution_count": 9,
     "metadata": {},
     "output_type": "execute_result"
    },
    {
     "data": {
      "image/png": "[encoded data removed]",
      "text/plain": [
       "<Figure size 432x288 with 1 Axes>"
      ]
     },
     "metadata": {
      "needs_background": "light"
     },
     "output_type": "display_data"
    }
   ],
   "source": [
    "plt.scatter(p.real, p.imag)"
   ]
  },
  {
   "cell_type": "code",
   "execution_count": null,
   "id": "b59229af",
   "metadata": {},
   "outputs": [],
   "source": []
  },
  {
   "cell_type": "code",
   "execution_count": null,
   "id": "8e1b69e3",
   "metadata": {},
   "outputs": [],
   "source": [
    "np.imag()"
   ]
  }
 ],
 "metadata": {
  "kernelspec": {
   "display_name": "Python 3 (ipykernel)",
   "language": "python",
   "name": "python3"
  },
  "language_info": {
   "codemirror_mode": {
    "name": "ipython",
    "version": 3
   },
   "file_extension": ".py",
   "mimetype": "text/x-python",
   "name": "python",
   "nbconvert_exporter": "python",
   "pygments_lexer": "ipython3",
   "version": "3.10.2"
  }
 },
 "nbformat": 4,
 "nbformat_minor": 5
}
